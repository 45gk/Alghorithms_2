{
 "cells": [
  {
   "cell_type": "markdown",
   "metadata": {
    "id": "WPvB9TcMmKA6"
   },
   "source": [
    "# Лабораторная работа №5\n",
    "# Рекурсия. Фракталы."
   ]
  },
  {
   "cell_type": "markdown",
   "metadata": {
    "id": "96Gi_LEvmSVH"
   },
   "source": [
    "## Выполнил студент группы ФИО ГРУППА\n",
    "***"
   ]
  },
  {
   "cell_type": "markdown",
   "metadata": {
    "id": "4clYOyb0mbEv"
   },
   "source": [
    "### Задание:\n",
    "Реализовать генерацию заданного типа фрактала с применением рекурсивных функций.\n",
    "\n",
    "\n",
    "Добавить возможность задания глубины фрактала. \n",
    "\n",
    "\n",
    "Оценить глубину рекурсии. \n",
    "\n",
    "\n",
    "Построить таблицу зависимости времени построения от глубины фрактала."
   ]
  },
  {
   "cell_type": "markdown",
   "metadata": {
    "id": "wDXHbUmMmhRL"
   },
   "source": [
    "### Список фракталов:\n",
    "\n",
    "Кривая Коха\n",
    "| Кривая Гильберта\n",
    "| Кривая Серпинского\n",
    "| Салфетка Серпинского\n",
    "| Ковер Серпинского\n",
    "| Дерево Пифагора "
   ]
  },
  {
   "cell_type": "markdown",
   "metadata": {
    "id": "Wggfn8l7nG72"
   },
   "source": [
    "### Выполнение:"
   ]
  },
  {
   "cell_type": "code",
   "execution_count": 3,
   "metadata": {},
   "outputs": [],
   "source": [
    "import turtle\n",
    "import time"
   ]
  },
  {
   "cell_type": "markdown",
   "metadata": {
    "id": "681a95mZnOSa"
   },
   "source": [
    "#### Кривая Коха"
   ]
  },
  {
   "cell_type": "code",
   "execution_count": 1,
   "metadata": {},
   "outputs": [
    {
     "ename": "NameError",
     "evalue": "name 'turtle' is not defined",
     "output_type": "error",
     "traceback": [
      "\u001b[1;31m---------------------------------------------------------------------------\u001b[0m",
      "\u001b[1;31mNameError\u001b[0m                                 Traceback (most recent call last)",
      "\u001b[1;32m<ipython-input-1-ac4940a74ed2>\u001b[0m in \u001b[0;36m<module>\u001b[1;34m\u001b[0m\n\u001b[0;32m     11\u001b[0m     \u001b[0mKoch\u001b[0m\u001b[1;33m(\u001b[0m\u001b[0mlength\u001b[0m\u001b[1;33m/\u001b[0m\u001b[1;36m3\u001b[0m\u001b[1;33m)\u001b[0m\u001b[1;33m\u001b[0m\u001b[1;33m\u001b[0m\u001b[0m\n\u001b[0;32m     12\u001b[0m \u001b[1;33m\u001b[0m\u001b[0m\n\u001b[1;32m---> 13\u001b[1;33m \u001b[0mturtle\u001b[0m\u001b[1;33m.\u001b[0m\u001b[0mspeed\u001b[0m\u001b[1;33m(\u001b[0m\u001b[1;36m0\u001b[0m\u001b[1;33m)\u001b[0m\u001b[1;33m\u001b[0m\u001b[1;33m\u001b[0m\u001b[0m\n\u001b[0m\u001b[0;32m     14\u001b[0m \u001b[0mlength\u001b[0m \u001b[1;33m=\u001b[0m \u001b[1;36m300.0\u001b[0m\u001b[1;33m\u001b[0m\u001b[1;33m\u001b[0m\u001b[0m\n\u001b[0;32m     15\u001b[0m \u001b[0mturtle\u001b[0m\u001b[1;33m.\u001b[0m\u001b[0mpenup\u001b[0m\u001b[1;33m(\u001b[0m\u001b[1;33m)\u001b[0m\u001b[1;33m\u001b[0m\u001b[1;33m\u001b[0m\u001b[0m\n",
      "\u001b[1;31mNameError\u001b[0m: name 'turtle' is not defined"
     ]
    }
   ],
   "source": [
    "def Koch (length):\n",
    "    if length <= 2 :\n",
    "        turtle.fd(length)\n",
    "        return\n",
    "    Koch(length/3)\n",
    "    turtle.lt(60)\n",
    "    Koch(length/3)\n",
    "    turtle.rt(120)\n",
    "    Koch(length/3)\n",
    "    turtle.lt(60)\n",
    "    Koch(length/3)\n",
    "\n",
    "turtle.speed(0)\n",
    "length = 300.0\n",
    "turtle.penup()\n",
    "turtle.backward(length/2.0)\n",
    "turtle.pendown()\n",
    "Koch(length)\n",
    "turtle.done()"
   ]
  },
  {
   "cell_type": "markdown",
   "metadata": {},
   "source": [
    "#### Кривая Гильберта"
   ]
  },
  {
   "cell_type": "code",
   "execution_count": 14,
   "metadata": {},
   "outputs": [
    {
     "name": "stdout",
     "output_type": "stream",
     "text": [
      "Построение кривой Гильберта заняло 2.3382840156555176 секунд\n"
     ]
    }
   ],
   "source": [
    "size = 10\n",
    "n = 3\n",
    "turtle.speed(1000)\n",
    "\n",
    "def hilbert(n, angle, size):\n",
    "    if n == 0:\n",
    "        return\n",
    "        \n",
    "    turtle.right(angle)\n",
    "    hilbert(n-1, -angle, size)\n",
    "    \n",
    "    turtle.fd(size)\n",
    "    turtle.left(angle)\n",
    "    hilbert(n-1, angle, size)\n",
    "    \n",
    "    turtle.fd(size)\n",
    "    hilbert(n-1, angle, size)\n",
    "    \n",
    "    turtle.left(angle)\n",
    "    turtle.fd(size)\n",
    "    hilbert(n-1, -angle, size)\n",
    "    turtle.right(angle)\n",
    "\n",
    "tic = time.time()\n",
    "hilbert(n, 90, size)\n",
    "tac = time.time()\n",
    "print(f\"Построение кривой Гильберта заняло {tac - tic} секунд\")\n",
    "turtle.done()"
   ]
  },
  {
   "cell_type": "markdown",
   "metadata": {},
   "source": [
    "#### Кривая Серпинского"
   ]
  },
  {
   "cell_type": "code",
   "execution_count": 2,
   "metadata": {},
   "outputs": [
    {
     "ename": "NameError",
     "evalue": "name 'turtle' is not defined",
     "output_type": "error",
     "traceback": [
      "\u001b[1;31m---------------------------------------------------------------------------\u001b[0m",
      "\u001b[1;31mNameError\u001b[0m                                 Traceback (most recent call last)",
      "\u001b[1;32m<ipython-input-2-b22726cf7dc3>\u001b[0m in \u001b[0;36m<module>\u001b[1;34m\u001b[0m\n\u001b[0;32m      1\u001b[0m \u001b[1;32mimport\u001b[0m \u001b[0mmath\u001b[0m\u001b[1;33m\u001b[0m\u001b[1;33m\u001b[0m\u001b[0m\n\u001b[1;32m----> 2\u001b[1;33m \u001b[0mturtle\u001b[0m\u001b[1;33m.\u001b[0m\u001b[0mpenup\u001b[0m\u001b[1;33m(\u001b[0m\u001b[1;33m)\u001b[0m\u001b[1;33m\u001b[0m\u001b[1;33m\u001b[0m\u001b[0m\n\u001b[0m\u001b[0;32m      3\u001b[0m \u001b[0mturtle\u001b[0m\u001b[1;33m.\u001b[0m\u001b[0mbk\u001b[0m\u001b[1;33m(\u001b[0m\u001b[1;36m500\u001b[0m\u001b[1;33m)\u001b[0m\u001b[1;33m\u001b[0m\u001b[1;33m\u001b[0m\u001b[0m\n\u001b[0;32m      4\u001b[0m \u001b[0mturtle\u001b[0m\u001b[1;33m.\u001b[0m\u001b[0mpendown\u001b[0m\u001b[1;33m(\u001b[0m\u001b[1;33m)\u001b[0m\u001b[1;33m\u001b[0m\u001b[1;33m\u001b[0m\u001b[0m\n\u001b[0;32m      5\u001b[0m \u001b[1;33m\u001b[0m\u001b[0m\n",
      "\u001b[1;31mNameError\u001b[0m: name 'turtle' is not defined"
     ]
    }
   ],
   "source": [
    "import math\n",
    "turtle.penup()\n",
    "turtle.bk(500)\n",
    "turtle.pendown()\n",
    "\n",
    "\n",
    "size = 2\n",
    "n = 3\n",
    "turtle.speed(1000)\n",
    "\n",
    "def serp(size, n):\n",
    "    if n == 0:\n",
    "        return\n",
    "    serp(size, n-1)\n",
    "    turtle.left(45)\n",
    "    turtle.fd(size*(math.sqrt(2)))\n",
    "    turtle.left(45)\n",
    "    serp(size, n-1)\n",
    "    turtle.right(90)\n",
    "    turtle.fd(size)\n",
    "    turtle.right(90)\n",
    "    serp(size, n-1)\n",
    "    turtle.left(45)\n",
    "    turtle.fd(size*(math.sqrt(2)))\n",
    "    turtle.left(45)\n",
    "    serp(size, n-1)\n",
    "    \n",
    "def serp_full(size, n):\n",
    "    serp(size, n)\n",
    "    turtle.right(90)\n",
    "    turtle.fd(size)\n",
    "    turtle.right(90)\n",
    "    serp(size, n)\n",
    "    turtle.right(90)\n",
    "    turtle.fd(size)\n",
    "    turtle.right(90)\n",
    "    \n",
    "tic = time.time()\n",
    "serp_full(size, n)\n",
    "tac = time.time()\n",
    "print(f\"Построение кривой Серпинского заняло {tac - tic} секунд\")\n",
    "# serp(size, n)\n",
    "turtle.done()"
   ]
  },
  {
   "cell_type": "markdown",
   "metadata": {},
   "source": [
    "#### Салфетка Серпинского"
   ]
  },
  {
   "cell_type": "code",
   "execution_count": 6,
   "metadata": {},
   "outputs": [
    {
     "name": "stdout",
     "output_type": "stream",
     "text": [
      "Построение салфетки Серпинского заняло 5.741696357727051 секунд\n"
     ]
    }
   ],
   "source": [
    "def serp_wipe(size, n):\n",
    "    if n == 0:\n",
    "        turtle.stamp()\n",
    "#         return\n",
    "    else:\n",
    "        for i in range(0, 3):\n",
    "            turtle.fd(size)\n",
    "            serp_wipe(size/2, n-1)\n",
    "            turtle.bk(size)\n",
    "            turtle.left(120)\n",
    "            \n",
    "turtle.right(30)\n",
    "turtle.penup()\n",
    "turtle.speed(1000)\n",
    "turtle.ht()\n",
    "\n",
    "size = 300\n",
    "n=4\n",
    "tic = time.time()\n",
    "serp_wipe(size, n)\n",
    "tac = time.time()\n",
    "print(f\"Построение салфетки Серпинского заняло {tac - tic} секунд\")\n",
    "turtle.done()"
   ]
  },
  {
   "cell_type": "markdown",
   "metadata": {},
   "source": [
    "#### Ковер Серпинского"
   ]
  },
  {
   "cell_type": "code",
   "execution_count": 6,
   "metadata": {},
   "outputs": [
    {
     "ename": "Terminator",
     "evalue": "",
     "output_type": "error",
     "traceback": [
      "\u001b[1;31m---------------------------------------------------------------------------\u001b[0m",
      "\u001b[1;31mTerminator\u001b[0m                                Traceback (most recent call last)",
      "\u001b[1;32m<ipython-input-6-1e6fbe560d90>\u001b[0m in \u001b[0;36m<module>\u001b[1;34m\u001b[0m\n\u001b[0;32m     23\u001b[0m \u001b[0mn\u001b[0m \u001b[1;33m=\u001b[0m \u001b[1;36m2\u001b[0m\u001b[1;33m\u001b[0m\u001b[1;33m\u001b[0m\u001b[0m\n\u001b[0;32m     24\u001b[0m \u001b[0mtic\u001b[0m \u001b[1;33m=\u001b[0m \u001b[0mtime\u001b[0m\u001b[1;33m.\u001b[0m\u001b[0mtime\u001b[0m\u001b[1;33m(\u001b[0m\u001b[1;33m)\u001b[0m\u001b[1;33m\u001b[0m\u001b[1;33m\u001b[0m\u001b[0m\n\u001b[1;32m---> 25\u001b[1;33m \u001b[0mserp_cover\u001b[0m\u001b[1;33m(\u001b[0m\u001b[0msize\u001b[0m\u001b[1;33m,\u001b[0m \u001b[0mn\u001b[0m\u001b[1;33m)\u001b[0m\u001b[1;33m\u001b[0m\u001b[1;33m\u001b[0m\u001b[0m\n\u001b[0m\u001b[0;32m     26\u001b[0m \u001b[0mtac\u001b[0m \u001b[1;33m=\u001b[0m \u001b[0mtime\u001b[0m\u001b[1;33m.\u001b[0m\u001b[0mtime\u001b[0m\u001b[1;33m(\u001b[0m\u001b[1;33m)\u001b[0m\u001b[1;33m\u001b[0m\u001b[1;33m\u001b[0m\u001b[0m\n\u001b[0;32m     27\u001b[0m \u001b[0mprint\u001b[0m\u001b[1;33m(\u001b[0m\u001b[1;34mf\"Построение ковра Серпинского заняло {tac - tic} секунд\"\u001b[0m\u001b[1;33m)\u001b[0m\u001b[1;33m\u001b[0m\u001b[1;33m\u001b[0m\u001b[0m\n",
      "\u001b[1;32m<ipython-input-6-1e6fbe560d90>\u001b[0m in \u001b[0;36mserp_cover\u001b[1;34m(size, n)\u001b[0m\n\u001b[0;32m     12\u001b[0m             \u001b[0mturtle\u001b[0m\u001b[1;33m.\u001b[0m\u001b[0mfd\u001b[0m\u001b[1;33m(\u001b[0m\u001b[0msize\u001b[0m\u001b[1;33m/\u001b[0m\u001b[1;36m3\u001b[0m\u001b[1;33m)\u001b[0m\u001b[1;33m\u001b[0m\u001b[1;33m\u001b[0m\u001b[0m\n\u001b[0;32m     13\u001b[0m \u001b[1;33m\u001b[0m\u001b[0m\n\u001b[1;32m---> 14\u001b[1;33m             \u001b[0mserp_cover\u001b[0m\u001b[1;33m(\u001b[0m\u001b[0msize\u001b[0m\u001b[1;33m/\u001b[0m\u001b[1;36m3\u001b[0m\u001b[1;33m,\u001b[0m \u001b[0mn\u001b[0m\u001b[1;33m-\u001b[0m\u001b[1;36m1\u001b[0m\u001b[1;33m)\u001b[0m\u001b[1;33m\u001b[0m\u001b[1;33m\u001b[0m\u001b[0m\n\u001b[0m\u001b[0;32m     15\u001b[0m             \u001b[0mturtle\u001b[0m\u001b[1;33m.\u001b[0m\u001b[0mfd\u001b[0m\u001b[1;33m(\u001b[0m\u001b[0msize\u001b[0m\u001b[1;33m/\u001b[0m\u001b[1;36m3\u001b[0m\u001b[1;33m)\u001b[0m\u001b[1;33m\u001b[0m\u001b[1;33m\u001b[0m\u001b[0m\n\u001b[0;32m     16\u001b[0m \u001b[1;33m\u001b[0m\u001b[0m\n",
      "\u001b[1;32m<ipython-input-6-1e6fbe560d90>\u001b[0m in \u001b[0;36mserp_cover\u001b[1;34m(size, n)\u001b[0m\n\u001b[0;32m      9\u001b[0m     \u001b[1;32melse\u001b[0m\u001b[1;33m:\u001b[0m\u001b[1;33m\u001b[0m\u001b[1;33m\u001b[0m\u001b[0m\n\u001b[0;32m     10\u001b[0m         \u001b[1;32mfor\u001b[0m \u001b[0mi\u001b[0m \u001b[1;32min\u001b[0m \u001b[0mrange\u001b[0m\u001b[1;33m(\u001b[0m\u001b[1;36m4\u001b[0m\u001b[1;33m)\u001b[0m\u001b[1;33m:\u001b[0m\u001b[1;33m\u001b[0m\u001b[1;33m\u001b[0m\u001b[0m\n\u001b[1;32m---> 11\u001b[1;33m             \u001b[0mserp_cover\u001b[0m\u001b[1;33m(\u001b[0m\u001b[0msize\u001b[0m\u001b[1;33m/\u001b[0m\u001b[1;36m3\u001b[0m\u001b[1;33m,\u001b[0m \u001b[0mn\u001b[0m\u001b[1;33m-\u001b[0m\u001b[1;36m1\u001b[0m\u001b[1;33m)\u001b[0m\u001b[1;33m\u001b[0m\u001b[1;33m\u001b[0m\u001b[0m\n\u001b[0m\u001b[0;32m     12\u001b[0m             \u001b[0mturtle\u001b[0m\u001b[1;33m.\u001b[0m\u001b[0mfd\u001b[0m\u001b[1;33m(\u001b[0m\u001b[0msize\u001b[0m\u001b[1;33m/\u001b[0m\u001b[1;36m3\u001b[0m\u001b[1;33m)\u001b[0m\u001b[1;33m\u001b[0m\u001b[1;33m\u001b[0m\u001b[0m\n\u001b[0;32m     13\u001b[0m \u001b[1;33m\u001b[0m\u001b[0m\n",
      "\u001b[1;32m<ipython-input-6-1e6fbe560d90>\u001b[0m in \u001b[0;36mserp_cover\u001b[1;34m(size, n)\u001b[0m\n\u001b[0;32m      5\u001b[0m         \u001b[1;32mfor\u001b[0m \u001b[0mi\u001b[0m \u001b[1;32min\u001b[0m \u001b[0mrange\u001b[0m\u001b[1;33m(\u001b[0m\u001b[1;36m4\u001b[0m\u001b[1;33m)\u001b[0m\u001b[1;33m:\u001b[0m\u001b[1;33m\u001b[0m\u001b[1;33m\u001b[0m\u001b[0m\n\u001b[0;32m      6\u001b[0m             \u001b[0mturtle\u001b[0m\u001b[1;33m.\u001b[0m\u001b[0mfd\u001b[0m\u001b[1;33m(\u001b[0m\u001b[0msize\u001b[0m\u001b[1;33m)\u001b[0m\u001b[1;33m\u001b[0m\u001b[1;33m\u001b[0m\u001b[0m\n\u001b[1;32m----> 7\u001b[1;33m             \u001b[0mturtle\u001b[0m\u001b[1;33m.\u001b[0m\u001b[0mleft\u001b[0m\u001b[1;33m(\u001b[0m\u001b[1;36m90\u001b[0m\u001b[1;33m)\u001b[0m\u001b[1;33m\u001b[0m\u001b[1;33m\u001b[0m\u001b[0m\n\u001b[0m\u001b[0;32m      8\u001b[0m         \u001b[0mturtle\u001b[0m\u001b[1;33m.\u001b[0m\u001b[0mend_fill\u001b[0m\u001b[1;33m(\u001b[0m\u001b[1;33m)\u001b[0m\u001b[1;33m\u001b[0m\u001b[1;33m\u001b[0m\u001b[0m\n\u001b[0;32m      9\u001b[0m     \u001b[1;32melse\u001b[0m\u001b[1;33m:\u001b[0m\u001b[1;33m\u001b[0m\u001b[1;33m\u001b[0m\u001b[0m\n",
      "\u001b[1;32mC:\\ProgramData\\Anaconda3\\lib\\turtle.py\u001b[0m in \u001b[0;36mleft\u001b[1;34m(angle)\u001b[0m\n",
      "\u001b[1;31mTerminator\u001b[0m: "
     ]
    }
   ],
   "source": [
    "def serp_cover(size, n):\n",
    "    if n==0:\n",
    "        turtle.color('black')\n",
    "        turtle.begin_fill()\n",
    "        for i in range(4):\n",
    "            turtle.fd(size)\n",
    "            turtle.left(90)\n",
    "        turtle.end_fill()\n",
    "    else:\n",
    "        for i in range(4):\n",
    "            serp_cover(size/3, n-1)\n",
    "            turtle.fd(size/3)\n",
    "            \n",
    "            serp_cover(size/3, n-1)\n",
    "            turtle.fd(size/3)\n",
    "            \n",
    "            turtle.fd(size/3)\n",
    "            turtle.left(90)\n",
    "\n",
    "            \n",
    "turtle.speed(1000)\n",
    "size = 500\n",
    "n = 2\n",
    "tic = time.time()\n",
    "serp_cover(size, n)\n",
    "tac = time.time()\n",
    "print(f\"Построение ковра Серпинского заняло {tac - tic} секунд\")\n",
    "turtle.done()"
   ]
  },
  {
   "cell_type": "markdown",
   "metadata": {},
   "source": [
    "#### Дерево Пифагора"
   ]
  },
  {
   "cell_type": "code",
   "execution_count": 4,
   "metadata": {},
   "outputs": [
    {
     "name": "stdout",
     "output_type": "stream",
     "text": [
      "Построение дерева Пифагора заняло 2.1729929447174072 секунд\n"
     ]
    }
   ],
   "source": [
    "def pythagoras_pants(size, n): \n",
    "    if n <= 0 :  \n",
    "        turtle.fd(size) \n",
    "    else:\n",
    "        turtle.right(135)\n",
    "        turtle.fd((size*size/2)**(0.5))\n",
    "        turtle.left(90)\n",
    "        pythagoras_pants(((size*size/2)**(0.5)), n-1)\n",
    "        turtle.left(90)\n",
    "        turtle.fd((size*size/2)**(0.5))\n",
    "        turtle.left(90)\n",
    "        turtle.fd((size*size/2)**(0.5))\n",
    "        turtle.right(135)\n",
    "        turtle.fd(size)\n",
    "        turtle.right(135)\n",
    "        turtle.fd((size*size/2)**(0.5))\n",
    "        turtle.left(90)\n",
    "        turtle.fd((size*size/2)**(0.5))\n",
    "        turtle.left(90)\n",
    "        pythagoras_pants(((size*size/2)**(0.5)), n-1)\n",
    "        turtle.left(90)\n",
    "        turtle.fd((size*size/2)**(0.5))\n",
    "        turtle.right(135)\n",
    "        \n",
    "def pythagoras_tree(size, n):\n",
    "    turtle.fd(size)\n",
    "    turtle.left(90)\n",
    "    turtle.fd(size)\n",
    "    turtle.left(90)\n",
    "    pythagoras_pants(size, n)\n",
    "    turtle.left(90)\n",
    "    turtle.fd(size)\n",
    "    \n",
    "turtle.speed(1000)\n",
    "size =100\n",
    "n=3\n",
    "tic = time.time()\n",
    "pythagoras_tree(size, n)\n",
    "tac = time.time()\n",
    "print(f\"Построение дерева Пифагора заняло {tac - tic} секунд\")\n",
    "turtle.done()"
   ]
  },
  {
   "cell_type": "markdown",
   "metadata": {
    "id": "diOb-K7LnO5a"
   },
   "source": [
    "### Вывод"
   ]
  }
 ],
 "metadata": {
  "colab": {
   "collapsed_sections": [],
   "name": "Lab5.ipynb",
   "provenance": []
  },
  "interpreter": {
   "hash": "91bb753b057673435fb8d6f6a083e6c818364728098c7ae050ca3a25357dd754"
  },
  "kernelspec": {
   "display_name": "Python 3",
   "language": "python",
   "name": "python3"
  },
  "language_info": {
   "codemirror_mode": {
    "name": "ipython",
    "version": 3
   },
   "file_extension": ".py",
   "mimetype": "text/x-python",
   "name": "python",
   "nbconvert_exporter": "python",
   "pygments_lexer": "ipython3",
   "version": "3.8.8"
  }
 },
 "nbformat": 4,
 "nbformat_minor": 1
}
